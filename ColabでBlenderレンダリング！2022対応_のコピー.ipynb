{
  "nbformat": 4,
  "nbformat_minor": 0,
  "metadata": {
    "colab": {
      "name": "ColabでBlenderレンダリング！2022対応 のコピー",
      "provenance": [],
      "mount_file_id": "1fAxyFIWJD-vnqvycRCAMaW1n6UN3bRZ5",
      "authorship_tag": "ABX9TyNRTESoYnTFcNqrpCb75Z5p",
      "include_colab_link": true
    },
    "kernelspec": {
      "name": "python3",
      "display_name": "Python 3"
    },
    "language_info": {
      "name": "python"
    },
    "accelerator": "GPU"
  },
  "cells": [
    {
      "cell_type": "markdown",
      "metadata": {
        "id": "view-in-github",
        "colab_type": "text"
      },
      "source": [
        "<a href=\"https://colab.research.google.com/github/ryotaorolab/blendercolab/blob/main/Colab%E3%81%A7Blender%E3%83%AC%E3%83%B3%E3%83%80%E3%83%AA%E3%83%B3%E3%82%B0%EF%BC%812022%E5%AF%BE%E5%BF%9C_%E3%81%AE%E3%82%B3%E3%83%94%E3%83%BC.ipynb\" target=\"_parent\"><img src=\"https://colab.research.google.com/assets/colab-badge.svg\" alt=\"Open In Colab\"/></a>"
      ]
    },
    {
      "cell_type": "markdown",
      "source": [
        "# 使い方\n",
        "Google DriveにレンダリングしたいBlendファイルを入れてください。\n",
        "使いすぎるとColabの利用制限でGPUが一定時間使えなくかもしれないので注意を。\n",
        "GPUガチャあります。当たりはめっちゃ早いです。ハズレは、早いけどーって感じです。K80はハズレ、T2などはめっちゃ早いです。多分、アメリカらへんが夜中のときはT2割当が多くなる気がします。\n",
        "\n",
        "入力し終わったら、ランタイムから全てのセルを実行を選択すると処理が始まります。\n",
        "\n",
        "参考にみたサイト\n",
        "\n",
        "https://microsingularity.github.io/blog/Blender-Colab\n",
        "\n",
        "https://colab.research.google.com/github/ynshung/blender-colab/blob/master/blender_render.ipynb\n"
      ],
      "metadata": {
        "id": "-6wJqvEG74Tq"
      }
    },
    {
      "cell_type": "code",
      "execution_count": null,
      "metadata": {
        "id": "67UbEVeA1D__"
      },
      "outputs": [],
      "source": [
        "# GPU確認\n",
        "!nvidia-smi"
      ]
    },
    {
      "cell_type": "code",
      "source": [
        "#Google Driveと連携する\n",
        "from google.colab import drive\n",
        "drive.mount('/drive/')"
      ],
      "metadata": {
        "id": "XBHtNgpE1JLq"
      },
      "execution_count": null,
      "outputs": []
    },
    {
      "cell_type": "code",
      "source": [
        "#Blender3.01(Linux版をダウンロード)\n",
        "!wget -nc https://ftp.nluug.nl/pub/graphics/blender/release/Blender3.0/blender-3.0.1-linux-x64.tar.xz"
      ],
      "metadata": {
        "id": "7TK45Ys91Y9G"
      },
      "execution_count": null,
      "outputs": []
    },
    {
      "cell_type": "code",
      "source": [
        "#ダウンロードしたやつを解凍\n",
        "!tar xf blender-3.0.1-linux-x64.tar.xz"
      ],
      "metadata": {
        "id": "s4zNuXqQ1gFi"
      },
      "execution_count": null,
      "outputs": []
    },
    {
      "cell_type": "code",
      "source": [
        "#MyDriveの後に、レンダリングしたいBlendファイルを指定\n",
        "Filepath = \"\"#@param {type:\"string\"}\n",
        "filename = '/drive/MyDrive/' + Filepath"
      ],
      "metadata": {
        "id": "NTDQcaEB2qXV"
      },
      "execution_count": null,
      "outputs": []
    },
    {
      "cell_type": "code",
      "source": [
        "#デフォルトのlibtcmalloc-minimal4バージョンを削除して、Ubuntuのデフォルトバージョンをインストールする\n",
        "#下のコードがうまく動かないときに動かす\n",
        "import os\n",
        "\n",
        "os.environ[\"LD_PRELOAD\"] = \"\"\n",
        "\n",
        "#Deletes wrong Version of libtcmalloc-minimal4\n",
        "!apt remove libtcmalloc-minimal4\n",
        "#Installs correct version of libtcmalloc-minimal4\n",
        "!apt install libtcmalloc-minimal4\n",
        "\n",
        "#Adds this library to the user environment\n",
        "os.environ[\"LD_PRELOAD\"] = \"/usr/lib/x86_64-linux-gnu/libtcmalloc_minimal.so.4.3.0\""
      ],
      "metadata": {
        "id": "rmh9FT9eqdp8"
      },
      "execution_count": null,
      "outputs": []
    },
    {
      "cell_type": "code",
      "source": [
        "#レンダリングしたものは、指定されたGoogle Driveのパスに保存されます。（Linuxのフォルダに何故か保存されるときもある）\n",
        "RenderingOutputPath = \"\"#@param {type:\"string\"}\n",
        "--debug-all -o \"/drive/MyDrive/\" + RenderingOu\n",
        "RenderPath = '/drive/MyDrive/' + RenderingOutputPath\n",
        "\n",
        "#写真をレンダリング\n",
        "!./blender-3.0.1-linux-x64/blender -b $filename -noaudio -E 'CYCLES' --debug-all -o '{RenderPath}' -f 1 -F 'PNG' -- --cycles-device CUDA\n",
        "\n",
        "#アニメーションをレンダリング\n",
        "# !./blender-3.0.1-linux-x64/blender -b $filename -noaudio -E 'CYCLES' -o /drive/MyDrive/3d/ -s 1 -e 280 -a -- --cycles-device CUDA\n",
        "#アニメーションをレンダリングするときは、上の写真をモデリングのコードをコメントアウトして\n",
        "#アニメーションをレンダリングの下にあるコードをコメントアウトの解除をする。"
      ],
      "metadata": {
        "id": "kOAhO4Ux11nW"
      },
      "execution_count": null,
      "outputs": []
    }
  ]
}